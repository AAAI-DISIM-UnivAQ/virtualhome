{
 "cells": [
  {
   "cell_type": "markdown",
   "metadata": {},
   "source": [
    "### Initialize Unity communication"
   ]
  },
  {
   "cell_type": "code",
   "execution_count": 6,
   "metadata": {
    "collapsed": true
   },
   "outputs": [],
   "source": [
    "import json\n",
    "import os"
   ]
  },
  {
   "cell_type": "code",
   "execution_count": 7,
   "metadata": {
    "collapsed": true
   },
   "outputs": [],
   "source": [
    "os.chdir('/Work/Python/VirtualHome')"
   ]
  },
  {
   "cell_type": "code",
   "execution_count": 8,
   "metadata": {
    "collapsed": true
   },
   "outputs": [],
   "source": [
    "from graph_export.scriptcheck import UnityCommunication\n",
    "\n",
    "comm = UnityCommunication()"
   ]
  },
  {
   "cell_type": "markdown",
   "metadata": {},
   "source": [
    "#### Define some functions for manipulating the environment graph"
   ]
  },
  {
   "cell_type": "code",
   "execution_count": 9,
   "metadata": {
    "collapsed": true
   },
   "outputs": [],
   "source": [
    "def find_nodes(graph, **kwargs):\n",
    "    if len(kwargs) == 0:\n",
    "        return None\n",
    "    else:\n",
    "        k, v = next(iter(kwargs.items()))\n",
    "        return [n for n in graph['nodes'] if n[k] == v]\n",
    "    \n",
    "def find_edges_from(graph, id):\n",
    "    nb_list = [(e['relation_type'], e['to_id']) for e in graph['edges'] if e['from_id'] == id]\n",
    "    return [(rel, find_nodes(graph, id=n_id)[0]) for (rel, n_id) in nb_list]\n",
    "\n",
    "def clean_graph(graph):\n",
    "    \"\"\"\n",
    "    Remove bounds to reflect real input by Andrew & Xavier\n",
    "    \"\"\"\n",
    "    new_nodes = []\n",
    "    for n in graph['nodes']:\n",
    "        nc = dict(n)\n",
    "        if 'bounding_box' in nc:\n",
    "            del nc['bounding_box']\n",
    "        new_nodes.append(nc)\n",
    "    return {'nodes': new_nodes, 'edges': list(graph['edges'])}\n",
    "    \n",
    "\n",
    "def remove_edges(graph, n, fr=True, to=True):\n",
    "    n_id = n['id']\n",
    "    new_edges = [e for e in graph['edges'] if \n",
    "                 (e['from_id'] != n_id or not fr) and (e['to_id'] != n_id or not to)]\n",
    "    graph['edges'] = new_edges\n",
    "\n",
    "def remove_edge(graph, fr_id, rel, to_id):\n",
    "    new_edges = [e for e in graph['edges'] if \n",
    "                 not (e['from_id'] == fr_id and e['to_id'] == to_id and e['relation_type'] == rel)]\n",
    "    graph['edges'] = new_edges\n",
    "    \n",
    "def add_node(graph, n):\n",
    "    graph['nodes'].append(n)\n",
    "\n",
    "def add_edge(graph, fr_id, rel, to_id):\n",
    "    graph['edges'].append({'from_id': fr_id, 'relation_type': rel, 'to_id': to_id})\n",
    "    \n",
    "def clean_graph(graph):\n",
    "    \"\"\"\n",
    "    Remove bounds to reflect real input by Andrew & Xavier\n",
    "    \"\"\"\n",
    "    new_nodes = []\n",
    "    for n in graph['nodes']:\n",
    "        nc = dict(n)\n",
    "        if 'bounding_box' in nc:\n",
    "            del nc['bounding_box']\n",
    "        new_nodes.append(nc)\n",
    "    return {'nodes': new_nodes, 'edges': list(graph['edges'])}\n"
   ]
  },
  {
   "cell_type": "markdown",
   "metadata": {},
   "source": [
    "### Examples - tested  to work on scene 7!"
   ]
  },
  {
   "cell_type": "markdown",
   "metadata": {},
   "source": [
    "#### Put a cat to a sofa and grab it"
   ]
  },
  {
   "cell_type": "code",
   "execution_count": 57,
   "metadata": {
    "collapsed": true
   },
   "outputs": [],
   "source": [
    "comm.reset()\n",
    "success, graph = comm.environment_graph()"
   ]
  },
  {
   "cell_type": "markdown",
   "metadata": {
    "collapsed": true
   },
   "source": [
    "Adjust environment graph (put a cat to the sofa)"
   ]
  },
  {
   "cell_type": "code",
   "execution_count": 58,
   "metadata": {
    "collapsed": true
   },
   "outputs": [],
   "source": [
    "graph_1 = clean_graph(graph)\n",
    "sofa = find_nodes(graph_1, class_name='sofa')[0]\n",
    "add_node(graph_1, {'class_name': 'cat', 'category': 'Animals', 'id': 1000, 'properties': [], 'states': []})\n",
    "add_edge(graph_1, 1000, 'ON', sofa['id'])"
   ]
  },
  {
   "cell_type": "code",
   "execution_count": 59,
   "metadata": {
    "collapsed": true
   },
   "outputs": [],
   "source": [
    "success, message = comm.expand_scene(graph_1)"
   ]
  },
  {
   "cell_type": "markdown",
   "metadata": {},
   "source": [
    "Execute and render script \"find and grab the cat\""
   ]
  },
  {
   "cell_type": "code",
   "execution_count": 60,
   "metadata": {
    "collapsed": true
   },
   "outputs": [],
   "source": [
    "script = ['[Walk] <cat> (1)', '[Grab] <cat> (1)']\n",
    "success, message = comm.render_script(script=script, capture_screenshot=True, find_solution=True, camera_mode='FIRST_PERSON')"
   ]
  },
  {
   "cell_type": "markdown",
   "metadata": {
    "collapsed": true
   },
   "source": [
    "Paramters to render_script are:\n",
    "- script: a list of script lines\n",
    "- randomize_execution: randomly choose elements\n",
    "- random_seed: random seed to use when randomizing execution, -1 means that the seed is not set\n",
    "- find_solution: find solution (True) or use graph ids to determine object instances (False)\n",
    "- processing_time_limit: time limit for finding a solution\n",
    "- skip_execution: skip rendering, only check if a solution exists\n",
    "- output_folder: folder to output renderings, default is Output/\n",
    "- file_name_prefix: prefix of created files (screenshots are put to output_folder/file_name_prefix/)\n",
    "- frame_rate: frame rate\n",
    "- capture_screenshot: save screenshots\n",
    "- image_synthesis: save depth, segmentation, flow images\n",
    "- save_pose_data: save pose data\n",
    "- save_scene_states: save scene states\n",
    "- character_resource: path to character resource to be used\n",
    "- camera_mode: automatic (AUTO), first person (FIRST_PERSON), top (PERSON_TOP), front person view (PERSON_FRONT)"
   ]
  },
  {
   "cell_type": "code",
   "execution_count": 42,
   "metadata": {},
   "outputs": [
    {
     "data": {
      "text/plain": [
       "True"
      ]
     },
     "execution_count": 42,
     "metadata": {},
     "output_type": "execute_result"
    }
   ],
   "source": [
    "success"
   ]
  },
  {
   "cell_type": "code",
   "execution_count": 43,
   "metadata": {
    "collapsed": true
   },
   "outputs": [],
   "source": [
    "message"
   ]
  },
  {
   "cell_type": "markdown",
   "metadata": {},
   "source": [
    "#### Grab mug, go to toilet, sit on toilet, open fridge"
   ]
  },
  {
   "cell_type": "code",
   "execution_count": 61,
   "metadata": {
    "collapsed": true
   },
   "outputs": [],
   "source": [
    "comm.reset()\n",
    "success, graph = comm.environment_graph()"
   ]
  },
  {
   "cell_type": "code",
   "execution_count": 62,
   "metadata": {
    "collapsed": true
   },
   "outputs": [],
   "source": [
    "mug_id = find_nodes(graph, class_name='mug')[0]['id']\n",
    "toilet_id = find_nodes(graph, class_name='toilet')[0]['id']\n",
    "fridge_id = find_nodes(graph, class_name='fridge')[0]['id']"
   ]
  },
  {
   "cell_type": "markdown",
   "metadata": {},
   "source": [
    "Use ids from environment graph, do not let Unity to find a solution"
   ]
  },
  {
   "cell_type": "code",
   "execution_count": 63,
   "metadata": {
    "collapsed": true
   },
   "outputs": [],
   "source": [
    "script = ['[Walk] <mug> ({})'.format(mug_id), \n",
    "          '[Grab] <mug> ({})'.format(mug_id),\n",
    "          '[Walk] <toilet> ({})'.format(toilet_id),\n",
    "          '[Sit] <toilet> ({})'.format(toilet_id),\n",
    "          '[Walk] <fridge> ({})'.format(fridge_id),\n",
    "          '[Open] <fridge> ({})'.format(fridge_id)]          \n",
    "success, message = comm.render_script(script=script, capture_screenshot=True, find_solution=False, camera_mode='PERSON_FRONT')"
   ]
  },
  {
   "cell_type": "markdown",
   "metadata": {},
   "source": [
    "#### Put tv on table (prepare scene only, no rendering)"
   ]
  },
  {
   "cell_type": "code",
   "execution_count": 10,
   "metadata": {},
   "outputs": [],
   "source": [
    "comm.reset()\n",
    "success, graph = comm.environment_graph()"
   ]
  },
  {
   "cell_type": "code",
   "execution_count": 11,
   "metadata": {
    "collapsed": true
   },
   "outputs": [],
   "source": [
    "graph_1 = clean_graph(graph)\n",
    "table = find_nodes(graph_1, class_name='kitchentable')[0]\n",
    "new_node = {'class_name': 'tv', 'category': 'Electronics', 'id': 1000, \n",
    "            'properties': ['HAS_SWITCH', 'LOOKABLE', 'HAS_PLUG'], 'states': ['OFF']}\n",
    "add_node(graph_1, new_node)\n",
    "add_edge(graph_1, 1000, 'ON', table['id'])"
   ]
  },
  {
   "cell_type": "code",
   "execution_count": 12,
   "metadata": {
    "collapsed": true
   },
   "outputs": [],
   "source": [
    "success, message = comm.expand_scene(graph_1, ignore_placing_obstacles=True)"
   ]
  },
  {
   "cell_type": "markdown",
   "metadata": {},
   "source": [
    "Note new option __ignore_placing_obstacles__ which allows an object to be put even if it collides with other object on the destination"
   ]
  },
  {
   "cell_type": "code",
   "execution_count": 13,
   "metadata": {},
   "outputs": [
    {
     "data": {
      "text/plain": [
       "True"
      ]
     },
     "execution_count": 13,
     "metadata": {},
     "output_type": "execute_result"
    }
   ],
   "source": [
    "success"
   ]
  },
  {
   "cell_type": "code",
   "execution_count": 14,
   "metadata": {},
   "outputs": [
    {
     "data": {
      "text/plain": [
       "{}"
      ]
     },
     "execution_count": 14,
     "metadata": {},
     "output_type": "execute_result"
    }
   ],
   "source": [
    "message"
   ]
  },
  {
   "cell_type": "markdown",
   "metadata": {},
   "source": [
    "#### Put a lamp on a table, turn it on, turn other lights off (scene preparation example)"
   ]
  },
  {
   "cell_type": "code",
   "execution_count": 15,
   "metadata": {
    "collapsed": true
   },
   "outputs": [],
   "source": [
    "comm.reset()\n",
    "success, graph = comm.environment_graph()"
   ]
  },
  {
   "cell_type": "markdown",
   "metadata": {},
   "source": [
    "Put a lamp to coffee table with initial state set to \"off\""
   ]
  },
  {
   "cell_type": "code",
   "execution_count": 16,
   "metadata": {
    "collapsed": true
   },
   "outputs": [],
   "source": [
    "graph_1 = clean_graph(graph)\n",
    "table = find_nodes(graph_1, class_name='coffeetable')[0]\n",
    "new_node = {'class_name': 'tablelamp', 'category': 'Lamps', 'id': 1000, \n",
    "            'properties': ['HAS_SWITCH'], 'states': ['OFF']}\n",
    "add_node(graph_1, new_node)\n",
    "add_edge(graph_1, 1000, 'ON', table['id'])\n",
    "success, message = comm.expand_scene(graph_1, ignore_placing_obstacles=True)"
   ]
  },
  {
   "cell_type": "markdown",
   "metadata": {},
   "source": [
    "Turn off all lights"
   ]
  },
  {
   "cell_type": "code",
   "execution_count": 17,
   "metadata": {
    "collapsed": true
   },
   "outputs": [],
   "source": [
    "graph_2 = clean_graph(graph_1)\n",
    "lsws = find_nodes(graph_2, class_name='lightswitch')\n",
    "for ls in lsws:\n",
    "    ls['states'] =  ['OFF']\n",
    "success, message = comm.expand_scene(graph_2)"
   ]
  },
  {
   "cell_type": "markdown",
   "metadata": {},
   "source": [
    "Turn on the lamp"
   ]
  },
  {
   "cell_type": "code",
   "execution_count": 18,
   "metadata": {
    "collapsed": true
   },
   "outputs": [],
   "source": [
    "graph_3 = clean_graph(graph_2)\n",
    "tlamps = find_nodes(graph_3, id=1000)\n",
    "for ls in tlamps:\n",
    "    ls['states'] =  ['ON']\n",
    "success, message = comm.expand_scene(graph_3)"
   ]
  },
  {
   "cell_type": "code",
   "execution_count": null,
   "metadata": {
    "collapsed": true
   },
   "outputs": [],
   "source": []
  }
 ],
 "metadata": {
  "kernelspec": {
   "display_name": "Python 3",
   "language": "python",
   "name": "python3"
  },
  "language_info": {
   "codemirror_mode": {
    "name": "ipython",
    "version": 3
   },
   "file_extension": ".py",
   "mimetype": "text/x-python",
   "name": "python",
   "nbconvert_exporter": "python",
   "pygments_lexer": "ipython3",
   "version": "3.5.3"
  }
 },
 "nbformat": 4,
 "nbformat_minor": 2
}
