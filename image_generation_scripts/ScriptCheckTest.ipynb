{
 "cells": [
  {
   "cell_type": "code",
   "execution_count": 38,
   "metadata": {
    "collapsed": false
   },
   "outputs": [
    {
     "name": "stdout",
     "output_type": "stream",
     "text": [
      "The autoreload extension is already loaded. To reload it, use:\n",
      "  %reload_ext autoreload\n"
     ]
    }
   ],
   "source": [
    "%load_ext autoreload\n",
    "%autoreloimport sys\n",
    "sys.path.append('../virtualhome/graph_export')ad 2\n"
   ]
  },
  {
   "cell_type": "code",
   "execution_count": 1,
   "metadata": {
    "collapsed": false
   },
   "outputs": [
    {
     "data": {
      "text/plain": [
       "u'/Users/xavierpuig/Desktop/VirtualHome2_Sim/apartment_scripts'"
      ]
     },
     "execution_count": 1,
     "metadata": {},
     "output_type": "execute_result"
    }
   ],
   "source": [
    "pwd"
   ]
  },
  {
   "cell_type": "code",
   "execution_count": 39,
   "metadata": {
    "collapsed": false
   },
   "outputs": [],
   "source": [
    "from scriptcheck import UnityCommunication\n",
    "from IPython import display\n",
    "import json\n",
    "\n",
    "comm = UnityCommunication()"
   ]
  },
  {
   "cell_type": "code",
   "execution_count": 40,
   "metadata": {
    "collapsed": false
   },
   "outputs": [
    {
     "data": {
      "text/plain": [
       "True"
      ]
     },
     "execution_count": 40,
     "metadata": {},
     "output_type": "execute_result"
    }
   ],
   "source": [
    "comm.reset()"
   ]
  },
  {
   "cell_type": "code",
   "execution_count": 31,
   "metadata": {
    "collapsed": false,
    "scrolled": true
   },
   "outputs": [
    {
     "name": "stdout",
     "output_type": "stream",
     "text": [
      "TestScene1_graph.json         TestScene3_graph.json         TestScene5_graph.json         TestScene7_graph.json         TrimmedTestScene2_graph.json  TrimmedTestScene4_graph.json  TrimmedTestScene6_graph.json\r\n",
      "TestScene2_graph.json         TestScene4_graph.json         TestScene6_graph.json         TrimmedTestScene1_graph.json  TrimmedTestScene3_graph.json  TrimmedTestScene5_graph.json  TrimmedTestScene7_graph.json\r\n"
     ]
    }
   ],
   "source": [
    "ls ../virtualhome/example_graphs/TrimmedTestScene6_graph.json\n"
   ]
  },
  {
   "cell_type": "code",
   "execution_count": 41,
   "metadata": {
    "collapsed": false
   },
   "outputs": [
    {
     "data": {
      "text/plain": [
       "(True,\n",
       " {u'invalid_ids': [],\n",
       "  u'missing_destinations': [],\n",
       "  u'missing_prefabs': [],\n",
       "  u'unplaced': []})"
      ]
     },
     "execution_count": 41,
     "metadata": {},
     "output_type": "execute_result"
    }
   ],
   "source": [
    "# the default graphs\n",
    "graph_path = '../virtualhome/example_graphs/TrimmedTestScene6_graph.json'\n",
    "comm.expand_scene(json.load(open(graph_path, 'r')))"
   ]
  },
  {
   "cell_type": "code",
   "execution_count": 36,
   "metadata": {
    "collapsed": true
   },
   "outputs": [
    {
     "ename": "KeyboardInterrupt",
     "evalue": "",
     "output_type": "error",
     "traceback": [
      "\u001b[0;31m---------------------------------------------------------------------------\u001b[0m",
      "\u001b[0;31mKeyboardInterrupt\u001b[0m                         Traceback (most recent call last)",
      "\u001b[0;32m<ipython-input-36-159c10b940e9>\u001b[0m in \u001b[0;36m<module>\u001b[0;34m()\u001b[0m\n\u001b[1;32m      2\u001b[0m \u001b[0;32massert\u001b[0m \u001b[0mwith_camera\u001b[0m\u001b[0;34m\u001b[0m\u001b[0m\n\u001b[1;32m      3\u001b[0m \u001b[0mmode\u001b[0m \u001b[0;34m=\u001b[0m \u001b[0;34m'normal'\u001b[0m \u001b[0;31m# Possible modes are: 'normal', 'seg_inst', 'seg_class', 'depth', 'flow'\u001b[0m\u001b[0;34m\u001b[0m\u001b[0m\n\u001b[0;32m----> 4\u001b[0;31m \u001b[0;34m(\u001b[0m\u001b[0mok\u001b[0m\u001b[0;34m,\u001b[0m \u001b[0mimgs\u001b[0m\u001b[0;34m)\u001b[0m \u001b[0;34m=\u001b[0m \u001b[0mcomm\u001b[0m\u001b[0;34m.\u001b[0m\u001b[0mcamera_image\u001b[0m\u001b[0;34m(\u001b[0m\u001b[0;34m[\u001b[0m\u001b[0mi\u001b[0m \u001b[0;32mfor\u001b[0m \u001b[0mi\u001b[0m \u001b[0;32min\u001b[0m \u001b[0mrange\u001b[0m\u001b[0;34m(\u001b[0m\u001b[0mnum_cameras\u001b[0m\u001b[0;34m)\u001b[0m\u001b[0;34m]\u001b[0m\u001b[0;34m,\u001b[0m \u001b[0mmode\u001b[0m\u001b[0;34m=\u001b[0m\u001b[0mmode\u001b[0m\u001b[0;34m)\u001b[0m\u001b[0;34m\u001b[0m\u001b[0m\n\u001b[0m\u001b[1;32m      5\u001b[0m \u001b[0;32mif\u001b[0m \u001b[0mok\u001b[0m\u001b[0;34m:\u001b[0m\u001b[0;34m\u001b[0m\u001b[0m\n\u001b[1;32m      6\u001b[0m     \u001b[0;32mfor\u001b[0m \u001b[0mimg\u001b[0m \u001b[0;32min\u001b[0m \u001b[0mimgs\u001b[0m\u001b[0;34m:\u001b[0m\u001b[0;34m\u001b[0m\u001b[0m\n",
      "\u001b[0;32m/Users/xavierpuig/Desktop/VirtualHome2_Sim/virtualhome/graph_export/scriptcheck.pyc\u001b[0m in \u001b[0;36mcamera_image\u001b[0;34m(self, camera_indexes, mode)\u001b[0m\n\u001b[1;32m     61\u001b[0m             \u001b[0mcamera_indexes\u001b[0m \u001b[0;34m=\u001b[0m \u001b[0;34m[\u001b[0m\u001b[0mcamera_indexes\u001b[0m\u001b[0;34m]\u001b[0m\u001b[0;34m\u001b[0m\u001b[0m\n\u001b[1;32m     62\u001b[0m         response = self.post_command({'id': str(time.time()), 'action': 'camera_image',\n\u001b[0;32m---> 63\u001b[0;31m                                       'intParams': camera_indexes, 'stringParams': [mode]})\n\u001b[0m\u001b[1;32m     64\u001b[0m         \u001b[0;32mreturn\u001b[0m \u001b[0mresponse\u001b[0m\u001b[0;34m[\u001b[0m\u001b[0;34m'success'\u001b[0m\u001b[0;34m]\u001b[0m\u001b[0;34m,\u001b[0m \u001b[0m_decode_image_list\u001b[0m\u001b[0;34m(\u001b[0m\u001b[0mresponse\u001b[0m\u001b[0;34m[\u001b[0m\u001b[0;34m'message_list'\u001b[0m\u001b[0;34m]\u001b[0m\u001b[0;34m)\u001b[0m\u001b[0;34m\u001b[0m\u001b[0m\n\u001b[1;32m     65\u001b[0m \u001b[0;34m\u001b[0m\u001b[0m\n",
      "\u001b[0;32m/Users/xavierpuig/Desktop/VirtualHome2_Sim/virtualhome/graph_export/scriptcheck.pyc\u001b[0m in \u001b[0;36mpost_command\u001b[0;34m(self, request_dict)\u001b[0m\n\u001b[1;32m     15\u001b[0m     \u001b[0;32mdef\u001b[0m \u001b[0mpost_command\u001b[0m\u001b[0;34m(\u001b[0m\u001b[0mself\u001b[0m\u001b[0;34m,\u001b[0m \u001b[0mrequest_dict\u001b[0m\u001b[0;34m)\u001b[0m\u001b[0;34m:\u001b[0m\u001b[0;34m\u001b[0m\u001b[0m\n\u001b[1;32m     16\u001b[0m         \u001b[0;32mtry\u001b[0m\u001b[0;34m:\u001b[0m\u001b[0;34m\u001b[0m\u001b[0m\n\u001b[0;32m---> 17\u001b[0;31m             \u001b[0mresp\u001b[0m \u001b[0;34m=\u001b[0m \u001b[0mrequests\u001b[0m\u001b[0;34m.\u001b[0m\u001b[0mpost\u001b[0m\u001b[0;34m(\u001b[0m\u001b[0mself\u001b[0m\u001b[0;34m.\u001b[0m\u001b[0m_address\u001b[0m\u001b[0;34m,\u001b[0m \u001b[0mjson\u001b[0m\u001b[0;34m=\u001b[0m\u001b[0mrequest_dict\u001b[0m\u001b[0;34m)\u001b[0m\u001b[0;34m\u001b[0m\u001b[0m\n\u001b[0m\u001b[1;32m     18\u001b[0m             \u001b[0;32mif\u001b[0m \u001b[0mresp\u001b[0m\u001b[0;34m.\u001b[0m\u001b[0mstatus_code\u001b[0m \u001b[0;34m!=\u001b[0m \u001b[0mrequests\u001b[0m\u001b[0;34m.\u001b[0m\u001b[0mcodes\u001b[0m\u001b[0;34m.\u001b[0m\u001b[0mok\u001b[0m\u001b[0;34m:\u001b[0m\u001b[0;34m\u001b[0m\u001b[0m\n\u001b[1;32m     19\u001b[0m                 \u001b[0;32mraise\u001b[0m \u001b[0mUnityEngineException\u001b[0m\u001b[0;34m(\u001b[0m\u001b[0mresp\u001b[0m\u001b[0;34m.\u001b[0m\u001b[0mstatus_code\u001b[0m\u001b[0;34m,\u001b[0m \u001b[0mresp\u001b[0m\u001b[0;34m.\u001b[0m\u001b[0mjson\u001b[0m\u001b[0;34m(\u001b[0m\u001b[0;34m)\u001b[0m\u001b[0;34m)\u001b[0m\u001b[0;34m\u001b[0m\u001b[0m\n",
      "\u001b[0;32m/Users/xavierpuig/anaconda2/lib/python2.7/site-packages/requests/api.pyc\u001b[0m in \u001b[0;36mpost\u001b[0;34m(url, data, json, **kwargs)\u001b[0m\n\u001b[1;32m    110\u001b[0m     \"\"\"\n\u001b[1;32m    111\u001b[0m \u001b[0;34m\u001b[0m\u001b[0m\n\u001b[0;32m--> 112\u001b[0;31m     \u001b[0;32mreturn\u001b[0m \u001b[0mrequest\u001b[0m\u001b[0;34m(\u001b[0m\u001b[0;34m'post'\u001b[0m\u001b[0;34m,\u001b[0m \u001b[0murl\u001b[0m\u001b[0;34m,\u001b[0m \u001b[0mdata\u001b[0m\u001b[0;34m=\u001b[0m\u001b[0mdata\u001b[0m\u001b[0;34m,\u001b[0m \u001b[0mjson\u001b[0m\u001b[0;34m=\u001b[0m\u001b[0mjson\u001b[0m\u001b[0;34m,\u001b[0m \u001b[0;34m**\u001b[0m\u001b[0mkwargs\u001b[0m\u001b[0;34m)\u001b[0m\u001b[0;34m\u001b[0m\u001b[0m\n\u001b[0m\u001b[1;32m    113\u001b[0m \u001b[0;34m\u001b[0m\u001b[0m\n\u001b[1;32m    114\u001b[0m \u001b[0;34m\u001b[0m\u001b[0m\n",
      "\u001b[0;32m/Users/xavierpuig/anaconda2/lib/python2.7/site-packages/requests/api.pyc\u001b[0m in \u001b[0;36mrequest\u001b[0;34m(method, url, **kwargs)\u001b[0m\n\u001b[1;32m     56\u001b[0m     \u001b[0;31m# cases, and look like a memory leak in others.\u001b[0m\u001b[0;34m\u001b[0m\u001b[0;34m\u001b[0m\u001b[0m\n\u001b[1;32m     57\u001b[0m     \u001b[0;32mwith\u001b[0m \u001b[0msessions\u001b[0m\u001b[0;34m.\u001b[0m\u001b[0mSession\u001b[0m\u001b[0;34m(\u001b[0m\u001b[0;34m)\u001b[0m \u001b[0;32mas\u001b[0m \u001b[0msession\u001b[0m\u001b[0;34m:\u001b[0m\u001b[0;34m\u001b[0m\u001b[0m\n\u001b[0;32m---> 58\u001b[0;31m         \u001b[0;32mreturn\u001b[0m \u001b[0msession\u001b[0m\u001b[0;34m.\u001b[0m\u001b[0mrequest\u001b[0m\u001b[0;34m(\u001b[0m\u001b[0mmethod\u001b[0m\u001b[0;34m=\u001b[0m\u001b[0mmethod\u001b[0m\u001b[0;34m,\u001b[0m \u001b[0murl\u001b[0m\u001b[0;34m=\u001b[0m\u001b[0murl\u001b[0m\u001b[0;34m,\u001b[0m \u001b[0;34m**\u001b[0m\u001b[0mkwargs\u001b[0m\u001b[0;34m)\u001b[0m\u001b[0;34m\u001b[0m\u001b[0m\n\u001b[0m\u001b[1;32m     59\u001b[0m \u001b[0;34m\u001b[0m\u001b[0m\n\u001b[1;32m     60\u001b[0m \u001b[0;34m\u001b[0m\u001b[0m\n",
      "\u001b[0;32m/Users/xavierpuig/anaconda2/lib/python2.7/site-packages/requests/sessions.pyc\u001b[0m in \u001b[0;36mrequest\u001b[0;34m(self, method, url, params, data, headers, cookies, files, auth, timeout, allow_redirects, proxies, hooks, stream, verify, cert, json)\u001b[0m\n\u001b[1;32m    516\u001b[0m         }\n\u001b[1;32m    517\u001b[0m         \u001b[0msend_kwargs\u001b[0m\u001b[0;34m.\u001b[0m\u001b[0mupdate\u001b[0m\u001b[0;34m(\u001b[0m\u001b[0msettings\u001b[0m\u001b[0;34m)\u001b[0m\u001b[0;34m\u001b[0m\u001b[0m\n\u001b[0;32m--> 518\u001b[0;31m         \u001b[0mresp\u001b[0m \u001b[0;34m=\u001b[0m \u001b[0mself\u001b[0m\u001b[0;34m.\u001b[0m\u001b[0msend\u001b[0m\u001b[0;34m(\u001b[0m\u001b[0mprep\u001b[0m\u001b[0;34m,\u001b[0m \u001b[0;34m**\u001b[0m\u001b[0msend_kwargs\u001b[0m\u001b[0;34m)\u001b[0m\u001b[0;34m\u001b[0m\u001b[0m\n\u001b[0m\u001b[1;32m    519\u001b[0m \u001b[0;34m\u001b[0m\u001b[0m\n\u001b[1;32m    520\u001b[0m         \u001b[0;32mreturn\u001b[0m \u001b[0mresp\u001b[0m\u001b[0;34m\u001b[0m\u001b[0m\n",
      "\u001b[0;32m/Users/xavierpuig/anaconda2/lib/python2.7/site-packages/requests/sessions.pyc\u001b[0m in \u001b[0;36msend\u001b[0;34m(self, request, **kwargs)\u001b[0m\n\u001b[1;32m    637\u001b[0m \u001b[0;34m\u001b[0m\u001b[0m\n\u001b[1;32m    638\u001b[0m         \u001b[0;31m# Send the request\u001b[0m\u001b[0;34m\u001b[0m\u001b[0;34m\u001b[0m\u001b[0m\n\u001b[0;32m--> 639\u001b[0;31m         \u001b[0mr\u001b[0m \u001b[0;34m=\u001b[0m \u001b[0madapter\u001b[0m\u001b[0;34m.\u001b[0m\u001b[0msend\u001b[0m\u001b[0;34m(\u001b[0m\u001b[0mrequest\u001b[0m\u001b[0;34m,\u001b[0m \u001b[0;34m**\u001b[0m\u001b[0mkwargs\u001b[0m\u001b[0;34m)\u001b[0m\u001b[0;34m\u001b[0m\u001b[0m\n\u001b[0m\u001b[1;32m    640\u001b[0m \u001b[0;34m\u001b[0m\u001b[0m\n\u001b[1;32m    641\u001b[0m         \u001b[0;31m# Total elapsed time of the request (approximately)\u001b[0m\u001b[0;34m\u001b[0m\u001b[0;34m\u001b[0m\u001b[0m\n",
      "\u001b[0;32m/Users/xavierpuig/anaconda2/lib/python2.7/site-packages/requests/adapters.pyc\u001b[0m in \u001b[0;36msend\u001b[0;34m(self, request, stream, timeout, verify, cert, proxies)\u001b[0m\n\u001b[1;32m    436\u001b[0m                     \u001b[0mdecode_content\u001b[0m\u001b[0;34m=\u001b[0m\u001b[0mFalse\u001b[0m\u001b[0;34m,\u001b[0m\u001b[0;34m\u001b[0m\u001b[0m\n\u001b[1;32m    437\u001b[0m                     \u001b[0mretries\u001b[0m\u001b[0;34m=\u001b[0m\u001b[0mself\u001b[0m\u001b[0;34m.\u001b[0m\u001b[0mmax_retries\u001b[0m\u001b[0;34m,\u001b[0m\u001b[0;34m\u001b[0m\u001b[0m\n\u001b[0;32m--> 438\u001b[0;31m                     \u001b[0mtimeout\u001b[0m\u001b[0;34m=\u001b[0m\u001b[0mtimeout\u001b[0m\u001b[0;34m\u001b[0m\u001b[0m\n\u001b[0m\u001b[1;32m    439\u001b[0m                 )\n\u001b[1;32m    440\u001b[0m \u001b[0;34m\u001b[0m\u001b[0m\n",
      "\u001b[0;32m/Users/xavierpuig/anaconda2/lib/python2.7/site-packages/requests/packages/urllib3/connectionpool.pyc\u001b[0m in \u001b[0;36murlopen\u001b[0;34m(self, method, url, body, headers, retries, redirect, assert_same_host, timeout, pool_timeout, release_conn, chunked, body_pos, **response_kw)\u001b[0m\n\u001b[1;32m    598\u001b[0m                                                   \u001b[0mtimeout\u001b[0m\u001b[0;34m=\u001b[0m\u001b[0mtimeout_obj\u001b[0m\u001b[0;34m,\u001b[0m\u001b[0;34m\u001b[0m\u001b[0m\n\u001b[1;32m    599\u001b[0m                                                   \u001b[0mbody\u001b[0m\u001b[0;34m=\u001b[0m\u001b[0mbody\u001b[0m\u001b[0;34m,\u001b[0m \u001b[0mheaders\u001b[0m\u001b[0;34m=\u001b[0m\u001b[0mheaders\u001b[0m\u001b[0;34m,\u001b[0m\u001b[0;34m\u001b[0m\u001b[0m\n\u001b[0;32m--> 600\u001b[0;31m                                                   chunked=chunked)\n\u001b[0m\u001b[1;32m    601\u001b[0m \u001b[0;34m\u001b[0m\u001b[0m\n\u001b[1;32m    602\u001b[0m             \u001b[0;31m# If we're going to release the connection in ``finally:``, then\u001b[0m\u001b[0;34m\u001b[0m\u001b[0;34m\u001b[0m\u001b[0m\n",
      "\u001b[0;32m/Users/xavierpuig/anaconda2/lib/python2.7/site-packages/requests/packages/urllib3/connectionpool.pyc\u001b[0m in \u001b[0;36m_make_request\u001b[0;34m(self, conn, method, url, timeout, chunked, **httplib_request_kw)\u001b[0m\n\u001b[1;32m    377\u001b[0m         \u001b[0;32mtry\u001b[0m\u001b[0;34m:\u001b[0m\u001b[0;34m\u001b[0m\u001b[0m\n\u001b[1;32m    378\u001b[0m             \u001b[0;32mtry\u001b[0m\u001b[0;34m:\u001b[0m  \u001b[0;31m# Python 2.7, use buffering of HTTP responses\u001b[0m\u001b[0;34m\u001b[0m\u001b[0m\n\u001b[0;32m--> 379\u001b[0;31m                 \u001b[0mhttplib_response\u001b[0m \u001b[0;34m=\u001b[0m \u001b[0mconn\u001b[0m\u001b[0;34m.\u001b[0m\u001b[0mgetresponse\u001b[0m\u001b[0;34m(\u001b[0m\u001b[0mbuffering\u001b[0m\u001b[0;34m=\u001b[0m\u001b[0mTrue\u001b[0m\u001b[0;34m)\u001b[0m\u001b[0;34m\u001b[0m\u001b[0m\n\u001b[0m\u001b[1;32m    380\u001b[0m             \u001b[0;32mexcept\u001b[0m \u001b[0mTypeError\u001b[0m\u001b[0;34m:\u001b[0m  \u001b[0;31m# Python 2.6 and older, Python 3\u001b[0m\u001b[0;34m\u001b[0m\u001b[0m\n\u001b[1;32m    381\u001b[0m                 \u001b[0;32mtry\u001b[0m\u001b[0;34m:\u001b[0m\u001b[0;34m\u001b[0m\u001b[0m\n",
      "\u001b[0;32m/Users/xavierpuig/anaconda2/lib/python2.7/httplib.pyc\u001b[0m in \u001b[0;36mgetresponse\u001b[0;34m(self, buffering)\u001b[0m\n\u001b[1;32m   1134\u001b[0m \u001b[0;34m\u001b[0m\u001b[0m\n\u001b[1;32m   1135\u001b[0m         \u001b[0;32mtry\u001b[0m\u001b[0;34m:\u001b[0m\u001b[0;34m\u001b[0m\u001b[0m\n\u001b[0;32m-> 1136\u001b[0;31m             \u001b[0mresponse\u001b[0m\u001b[0;34m.\u001b[0m\u001b[0mbegin\u001b[0m\u001b[0;34m(\u001b[0m\u001b[0;34m)\u001b[0m\u001b[0;34m\u001b[0m\u001b[0m\n\u001b[0m\u001b[1;32m   1137\u001b[0m             \u001b[0;32massert\u001b[0m \u001b[0mresponse\u001b[0m\u001b[0;34m.\u001b[0m\u001b[0mwill_close\u001b[0m \u001b[0;34m!=\u001b[0m \u001b[0m_UNKNOWN\u001b[0m\u001b[0;34m\u001b[0m\u001b[0m\n\u001b[1;32m   1138\u001b[0m             \u001b[0mself\u001b[0m\u001b[0;34m.\u001b[0m\u001b[0m__state\u001b[0m \u001b[0;34m=\u001b[0m \u001b[0m_CS_IDLE\u001b[0m\u001b[0;34m\u001b[0m\u001b[0m\n",
      "\u001b[0;32m/Users/xavierpuig/anaconda2/lib/python2.7/httplib.pyc\u001b[0m in \u001b[0;36mbegin\u001b[0;34m(self)\u001b[0m\n\u001b[1;32m    451\u001b[0m         \u001b[0;31m# read until we get a non-100 response\u001b[0m\u001b[0;34m\u001b[0m\u001b[0;34m\u001b[0m\u001b[0m\n\u001b[1;32m    452\u001b[0m         \u001b[0;32mwhile\u001b[0m \u001b[0mTrue\u001b[0m\u001b[0;34m:\u001b[0m\u001b[0;34m\u001b[0m\u001b[0m\n\u001b[0;32m--> 453\u001b[0;31m             \u001b[0mversion\u001b[0m\u001b[0;34m,\u001b[0m \u001b[0mstatus\u001b[0m\u001b[0;34m,\u001b[0m \u001b[0mreason\u001b[0m \u001b[0;34m=\u001b[0m \u001b[0mself\u001b[0m\u001b[0;34m.\u001b[0m\u001b[0m_read_status\u001b[0m\u001b[0;34m(\u001b[0m\u001b[0;34m)\u001b[0m\u001b[0;34m\u001b[0m\u001b[0m\n\u001b[0m\u001b[1;32m    454\u001b[0m             \u001b[0;32mif\u001b[0m \u001b[0mstatus\u001b[0m \u001b[0;34m!=\u001b[0m \u001b[0mCONTINUE\u001b[0m\u001b[0;34m:\u001b[0m\u001b[0;34m\u001b[0m\u001b[0m\n\u001b[1;32m    455\u001b[0m                 \u001b[0;32mbreak\u001b[0m\u001b[0;34m\u001b[0m\u001b[0m\n",
      "\u001b[0;32m/Users/xavierpuig/anaconda2/lib/python2.7/httplib.pyc\u001b[0m in \u001b[0;36m_read_status\u001b[0;34m(self)\u001b[0m\n\u001b[1;32m    407\u001b[0m     \u001b[0;32mdef\u001b[0m \u001b[0m_read_status\u001b[0m\u001b[0;34m(\u001b[0m\u001b[0mself\u001b[0m\u001b[0;34m)\u001b[0m\u001b[0;34m:\u001b[0m\u001b[0;34m\u001b[0m\u001b[0m\n\u001b[1;32m    408\u001b[0m         \u001b[0;31m# Initialize with Simple-Response defaults\u001b[0m\u001b[0;34m\u001b[0m\u001b[0;34m\u001b[0m\u001b[0m\n\u001b[0;32m--> 409\u001b[0;31m         \u001b[0mline\u001b[0m \u001b[0;34m=\u001b[0m \u001b[0mself\u001b[0m\u001b[0;34m.\u001b[0m\u001b[0mfp\u001b[0m\u001b[0;34m.\u001b[0m\u001b[0mreadline\u001b[0m\u001b[0;34m(\u001b[0m\u001b[0m_MAXLINE\u001b[0m \u001b[0;34m+\u001b[0m \u001b[0;36m1\u001b[0m\u001b[0;34m)\u001b[0m\u001b[0;34m\u001b[0m\u001b[0m\n\u001b[0m\u001b[1;32m    410\u001b[0m         \u001b[0;32mif\u001b[0m \u001b[0mlen\u001b[0m\u001b[0;34m(\u001b[0m\u001b[0mline\u001b[0m\u001b[0;34m)\u001b[0m \u001b[0;34m>\u001b[0m \u001b[0m_MAXLINE\u001b[0m\u001b[0;34m:\u001b[0m\u001b[0;34m\u001b[0m\u001b[0m\n\u001b[1;32m    411\u001b[0m             \u001b[0;32mraise\u001b[0m \u001b[0mLineTooLong\u001b[0m\u001b[0;34m(\u001b[0m\u001b[0;34m\"header line\"\u001b[0m\u001b[0;34m)\u001b[0m\u001b[0;34m\u001b[0m\u001b[0m\n",
      "\u001b[0;32m/Users/xavierpuig/anaconda2/lib/python2.7/socket.pyc\u001b[0m in \u001b[0;36mreadline\u001b[0;34m(self, size)\u001b[0m\n\u001b[1;32m    478\u001b[0m             \u001b[0;32mwhile\u001b[0m \u001b[0mTrue\u001b[0m\u001b[0;34m:\u001b[0m\u001b[0;34m\u001b[0m\u001b[0m\n\u001b[1;32m    479\u001b[0m                 \u001b[0;32mtry\u001b[0m\u001b[0;34m:\u001b[0m\u001b[0;34m\u001b[0m\u001b[0m\n\u001b[0;32m--> 480\u001b[0;31m                     \u001b[0mdata\u001b[0m \u001b[0;34m=\u001b[0m \u001b[0mself\u001b[0m\u001b[0;34m.\u001b[0m\u001b[0m_sock\u001b[0m\u001b[0;34m.\u001b[0m\u001b[0mrecv\u001b[0m\u001b[0;34m(\u001b[0m\u001b[0mself\u001b[0m\u001b[0;34m.\u001b[0m\u001b[0m_rbufsize\u001b[0m\u001b[0;34m)\u001b[0m\u001b[0;34m\u001b[0m\u001b[0m\n\u001b[0m\u001b[1;32m    481\u001b[0m                 \u001b[0;32mexcept\u001b[0m \u001b[0merror\u001b[0m\u001b[0;34m,\u001b[0m \u001b[0me\u001b[0m\u001b[0;34m:\u001b[0m\u001b[0;34m\u001b[0m\u001b[0m\n\u001b[1;32m    482\u001b[0m                     \u001b[0;32mif\u001b[0m \u001b[0me\u001b[0m\u001b[0;34m.\u001b[0m\u001b[0margs\u001b[0m\u001b[0;34m[\u001b[0m\u001b[0;36m0\u001b[0m\u001b[0;34m]\u001b[0m \u001b[0;34m==\u001b[0m \u001b[0mEINTR\u001b[0m\u001b[0;34m:\u001b[0m\u001b[0;34m\u001b[0m\u001b[0m\n",
      "\u001b[0;31mKeyboardInterrupt\u001b[0m: "
     ]
    }
   ],
   "source": [
    "with_camera, num_cameras = comm.camera_count()\n",
    "assert with_camera\n",
    "mode = 'normal' # Possible modes are: 'normal', 'seg_inst', 'seg_class', 'depth', 'flow'\n",
    "(ok, imgs) = comm.camera_image([i for i in range(num_cameras)], mode=mode)\n",
    "if ok:\n",
    "    for img in imgs:\n",
    "        display.display(img)"
   ]
  },
  {
   "cell_type": "code",
   "execution_count": null,
   "metadata": {
    "collapsed": false
   },
   "outputs": [],
   "source": [
    "with_camera, num_cameras = comm.camera_count()\n",
    "assert with_camera\n",
    "mode = 'normal' # Possible modes are: 'normal', 'seg_inst', 'seg_class', 'depth', 'flow'\n",
    "(ok, imgs) = comm.camera_image([i for i in range(num_cameras)], mode=mode)\n",
    "if ok:\n",
    "    for img in imgs:\n",
    "        display.display(img)"
   ]
  },
  {
   "cell_type": "code",
   "execution_count": null,
   "metadata": {
    "collapsed": true
   },
   "outputs": [],
   "source": [
    "pwd"
   ]
  },
  {
   "cell_type": "code",
   "execution_count": 42,
   "metadata": {
    "collapsed": false
   },
   "outputs": [
    {
     "name": "stdout",
     "output_type": "stream",
     "text": [
      "<PIL.PngImagePlugin.PngImageFile image mode=RGB size=640x480 at 0x110E08E90>\n",
      "<PIL.PngImagePlugin.PngImageFile image mode=RGB size=640x480 at 0x110E08E90>\n",
      "<PIL.PngImagePlugin.PngImageFile image mode=RGB size=640x480 at 0x110E08D10>\n",
      "<PIL.PngImagePlugin.PngImageFile image mode=RGB size=640x480 at 0x110E08D10>\n",
      "<PIL.PngImagePlugin.PngImageFile image mode=RGB size=640x480 at 0x110E08F50>\n",
      "<PIL.PngImagePlugin.PngImageFile image mode=RGB size=640x480 at 0x110E08F50>\n",
      "<PIL.PngImagePlugin.PngImageFile image mode=RGB size=640x480 at 0x110E08F10>\n",
      "<PIL.PngImagePlugin.PngImageFile image mode=RGB size=640x480 at 0x110E08F10>\n",
      "<PIL.PngImagePlugin.PngImageFile image mode=RGB size=640x480 at 0x110E08F90>\n",
      "<PIL.PngImagePlugin.PngImageFile image mode=RGB size=640x480 at 0x110E08F90>\n",
      "<PIL.PngImagePlugin.PngImageFile image mode=RGB size=640x480 at 0x110E08E10>\n",
      "<PIL.PngImagePlugin.PngImageFile image mode=RGB size=640x480 at 0x110E08E10>\n",
      "<PIL.PngImagePlugin.PngImageFile image mode=RGB size=640x480 at 0x110DEA6D0>\n",
      "<PIL.PngImagePlugin.PngImageFile image mode=RGB size=640x480 at 0x110DEA6D0>\n",
      "<PIL.PngImagePlugin.PngImageFile image mode=RGB size=640x480 at 0x110DEA210>\n",
      "<PIL.PngImagePlugin.PngImageFile image mode=RGB size=640x480 at 0x110DEA210>\n",
      "<PIL.PngImagePlugin.PngImageFile image mode=RGB size=640x480 at 0x110DEA050>\n",
      "<PIL.PngImagePlugin.PngImageFile image mode=RGB size=640x480 at 0x110DEA050>\n",
      "<PIL.PngImagePlugin.PngImageFile image mode=RGB size=640x480 at 0x110DEA590>\n",
      "<PIL.PngImagePlugin.PngImageFile image mode=RGB size=640x480 at 0x110DEA590>\n",
      "<PIL.PngImagePlugin.PngImageFile image mode=RGB size=640x480 at 0x110DEA310>\n",
      "<PIL.PngImagePlugin.PngImageFile image mode=RGB size=640x480 at 0x110DEA310>\n",
      "<PIL.PngImagePlugin.PngImageFile image mode=RGB size=640x480 at 0x110DEA110>\n",
      "<PIL.PngImagePlugin.PngImageFile image mode=RGB size=640x480 at 0x110DEA110>\n",
      "<PIL.PngImagePlugin.PngImageFile image mode=RGB size=640x480 at 0x110DEA2D0>\n",
      "<PIL.PngImagePlugin.PngImageFile image mode=RGB size=640x480 at 0x110DEA2D0>\n",
      "<PIL.PngImagePlugin.PngImageFile image mode=RGB size=640x480 at 0x110DEA350>\n",
      "<PIL.PngImagePlugin.PngImageFile image mode=RGB size=640x480 at 0x110DEA350>\n",
      "<PIL.PngImagePlugin.PngImageFile image mode=RGB size=640x480 at 0x110DEA610>\n",
      "<PIL.PngImagePlugin.PngImageFile image mode=RGB size=640x480 at 0x110DEA610>\n",
      "<PIL.PngImagePlugin.PngImageFile image mode=RGB size=640x480 at 0x110DEA290>\n",
      "<PIL.PngImagePlugin.PngImageFile image mode=RGB size=640x480 at 0x110DEA290>\n",
      "<PIL.PngImagePlugin.PngImageFile image mode=RGB size=640x480 at 0x110DEA390>\n",
      "<PIL.PngImagePlugin.PngImageFile image mode=RGB size=640x480 at 0x110DEA390>\n",
      "<PIL.PngImagePlugin.PngImageFile image mode=RGB size=640x480 at 0x110DEA690>\n",
      "<PIL.PngImagePlugin.PngImageFile image mode=RGB size=640x480 at 0x110DEA690>\n",
      "<PIL.PngImagePlugin.PngImageFile image mode=RGB size=640x480 at 0x110DEA090>\n",
      "<PIL.PngImagePlugin.PngImageFile image mode=RGB size=640x480 at 0x110DEA090>\n",
      "<PIL.PngImagePlugin.PngImageFile image mode=RGB size=640x480 at 0x110DEA550>\n",
      "<PIL.PngImagePlugin.PngImageFile image mode=RGB size=640x480 at 0x110DEA550>\n",
      "<PIL.PngImagePlugin.PngImageFile image mode=RGB size=640x480 at 0x110DEA790>\n",
      "<PIL.PngImagePlugin.PngImageFile image mode=RGB size=640x480 at 0x110DEA790>\n",
      "<PIL.PngImagePlugin.PngImageFile image mode=RGB size=640x480 at 0x110DEA810>\n",
      "<PIL.PngImagePlugin.PngImageFile image mode=RGB size=640x480 at 0x110DEA810>\n",
      "<PIL.PngImagePlugin.PngImageFile image mode=RGB size=640x480 at 0x110DEA890>\n",
      "<PIL.PngImagePlugin.PngImageFile image mode=RGB size=640x480 at 0x110DEA890>\n",
      "<PIL.PngImagePlugin.PngImageFile image mode=RGB size=640x480 at 0x110DEA910>\n",
      "<PIL.PngImagePlugin.PngImageFile image mode=RGB size=640x480 at 0x110DEA910>\n",
      "<PIL.PngImagePlugin.PngImageFile image mode=RGB size=640x480 at 0x110DEA990>\n",
      "<PIL.PngImagePlugin.PngImageFile image mode=RGB size=640x480 at 0x110DEA990>\n",
      "<PIL.PngImagePlugin.PngImageFile image mode=RGB size=640x480 at 0x110DEAA10>\n",
      "<PIL.PngImagePlugin.PngImageFile image mode=RGB size=640x480 at 0x110DEAA10>\n",
      "<PIL.PngImagePlugin.PngImageFile image mode=RGB size=640x480 at 0x110DEAA90>\n",
      "<PIL.PngImagePlugin.PngImageFile image mode=RGB size=640x480 at 0x110DEAA90>\n",
      "<PIL.PngImagePlugin.PngImageFile image mode=RGB size=640x480 at 0x110DEAB10>\n",
      "<PIL.PngImagePlugin.PngImageFile image mode=RGB size=640x480 at 0x110DEAB10>\n",
      "<PIL.PngImagePlugin.PngImageFile image mode=RGB size=640x480 at 0x110DEAB90>\n",
      "<PIL.PngImagePlugin.PngImageFile image mode=RGB size=640x480 at 0x110DEAB90>\n",
      "<PIL.PngImagePlugin.PngImageFile image mode=RGB size=640x480 at 0x110DEAC10>\n",
      "<PIL.PngImagePlugin.PngImageFile image mode=RGB size=640x480 at 0x110DEAC10>\n",
      "<PIL.PngImagePlugin.PngImageFile image mode=RGB size=640x480 at 0x110DEAC90>\n",
      "<PIL.PngImagePlugin.PngImageFile image mode=RGB size=640x480 at 0x110DEAC90>\n",
      "<PIL.PngImagePlugin.PngImageFile image mode=RGB size=640x480 at 0x110DEAD10>\n",
      "<PIL.PngImagePlugin.PngImageFile image mode=RGB size=640x480 at 0x110DEAD10>\n",
      "<PIL.PngImagePlugin.PngImageFile image mode=RGB size=640x480 at 0x110DEAD90>\n",
      "<PIL.PngImagePlugin.PngImageFile image mode=RGB size=640x480 at 0x110DEAD90>\n",
      "<PIL.PngImagePlugin.PngImageFile image mode=RGB size=640x480 at 0x110DEAE10>\n",
      "<PIL.PngImagePlugin.PngImageFile image mode=RGB size=640x480 at 0x110DEAE10>\n",
      "<PIL.PngImagePlugin.PngImageFile image mode=RGB size=640x480 at 0x110DEAE90>\n",
      "<PIL.PngImagePlugin.PngImageFile image mode=RGB size=640x480 at 0x110DEAE90>\n",
      "<PIL.PngImagePlugin.PngImageFile image mode=RGB size=640x480 at 0x110DEAF10>\n",
      "<PIL.PngImagePlugin.PngImageFile image mode=RGB size=640x480 at 0x110DEAF10>\n",
      "<PIL.PngImagePlugin.PngImageFile image mode=RGB size=640x480 at 0x110DEAF90>\n",
      "<PIL.PngImagePlugin.PngImageFile image mode=RGB size=640x480 at 0x110DEAF90>\n",
      "<PIL.PngImagePlugin.PngImageFile image mode=RGB size=640x480 at 0x110DE9050>\n",
      "<PIL.PngImagePlugin.PngImageFile image mode=RGB size=640x480 at 0x110DE9050>\n",
      "<PIL.PngImagePlugin.PngImageFile image mode=RGB size=640x480 at 0x110DE90D0>\n",
      "<PIL.PngImagePlugin.PngImageFile image mode=RGB size=640x480 at 0x110DE90D0>\n",
      "<PIL.PngImagePlugin.PngImageFile image mode=RGB size=640x480 at 0x110DE9150>\n",
      "<PIL.PngImagePlugin.PngImageFile image mode=RGB size=640x480 at 0x110DE9150>\n",
      "<PIL.PngImagePlugin.PngImageFile image mode=RGB size=640x480 at 0x110DE91D0>\n",
      "<PIL.PngImagePlugin.PngImageFile image mode=RGB size=640x480 at 0x110DE91D0>\n",
      "<PIL.PngImagePlugin.PngImageFile image mode=RGB size=640x480 at 0x110DE9250>\n",
      "<PIL.PngImagePlugin.PngImageFile image mode=RGB size=640x480 at 0x110DE9250>\n",
      "<PIL.PngImagePlugin.PngImageFile image mode=RGB size=640x480 at 0x110DE92D0>\n",
      "<PIL.PngImagePlugin.PngImageFile image mode=RGB size=640x480 at 0x110DE92D0>\n",
      "<PIL.PngImagePlugin.PngImageFile image mode=RGB size=640x480 at 0x110DE9350>\n",
      "<PIL.PngImagePlugin.PngImageFile image mode=RGB size=640x480 at 0x110DE9350>\n",
      "<PIL.PngImagePlugin.PngImageFile image mode=RGB size=640x480 at 0x110DE93D0>\n",
      "<PIL.PngImagePlugin.PngImageFile image mode=RGB size=640x480 at 0x110DE93D0>\n",
      "<PIL.PngImagePlugin.PngImageFile image mode=RGB size=640x480 at 0x110DE9450>\n",
      "<PIL.PngImagePlugin.PngImageFile image mode=RGB size=640x480 at 0x110DE9450>\n",
      "<PIL.PngImagePlugin.PngImageFile image mode=RGB size=640x480 at 0x110DE94D0>\n",
      "<PIL.PngImagePlugin.PngImageFile image mode=RGB size=640x480 at 0x110DE94D0>\n",
      "<PIL.PngImagePlugin.PngImageFile image mode=RGB size=640x480 at 0x110DE9550>\n",
      "<PIL.PngImagePlugin.PngImageFile image mode=RGB size=640x480 at 0x110DE9550>\n",
      "<PIL.PngImagePlugin.PngImageFile image mode=RGB size=640x480 at 0x110DE95D0>\n",
      "<PIL.PngImagePlugin.PngImageFile image mode=RGB size=640x480 at 0x110DE95D0>\n",
      "<PIL.PngImagePlugin.PngImageFile image mode=RGB size=640x480 at 0x110DE9650>\n",
      "<PIL.PngImagePlugin.PngImageFile image mode=RGB size=640x480 at 0x110DE9650>\n",
      "<PIL.PngImagePlugin.PngImageFile image mode=RGB size=640x480 at 0x110DE96D0>\n",
      "<PIL.PngImagePlugin.PngImageFile image mode=RGB size=640x480 at 0x110DE96D0>\n",
      "<PIL.PngImagePlugin.PngImageFile image mode=RGB size=640x480 at 0x110DE9750>\n",
      "<PIL.PngImagePlugin.PngImageFile image mode=RGB size=640x480 at 0x110DE9750>\n",
      "<PIL.PngImagePlugin.PngImageFile image mode=RGB size=640x480 at 0x110DE97D0>\n",
      "<PIL.PngImagePlugin.PngImageFile image mode=RGB size=640x480 at 0x110DE97D0>\n",
      "<PIL.PngImagePlugin.PngImageFile image mode=RGB size=640x480 at 0x110DE9850>\n",
      "<PIL.PngImagePlugin.PngImageFile image mode=RGB size=640x480 at 0x110DE9850>\n",
      "<PIL.PngImagePlugin.PngImageFile image mode=RGB size=640x480 at 0x110DE98D0>\n",
      "<PIL.PngImagePlugin.PngImageFile image mode=RGB size=640x480 at 0x110DE98D0>\n",
      "<PIL.PngImagePlugin.PngImageFile image mode=RGB size=640x480 at 0x110DE9950>\n",
      "<PIL.PngImagePlugin.PngImageFile image mode=RGB size=640x480 at 0x110DE9950>\n",
      "<PIL.PngImagePlugin.PngImageFile image mode=RGB size=640x480 at 0x110DE99D0>\n",
      "<PIL.PngImagePlugin.PngImageFile image mode=RGB size=640x480 at 0x110DE99D0>\n",
      "<PIL.PngImagePlugin.PngImageFile image mode=RGB size=640x480 at 0x110DE9A50>\n",
      "<PIL.PngImagePlugin.PngImageFile image mode=RGB size=640x480 at 0x110DE9A50>\n",
      "<PIL.PngImagePlugin.PngImageFile image mode=RGB size=640x480 at 0x110DE9AD0>\n",
      "<PIL.PngImagePlugin.PngImageFile image mode=RGB size=640x480 at 0x110DE9AD0>\n",
      "<PIL.PngImagePlugin.PngImageFile image mode=RGB size=640x480 at 0x110DE9B50>\n",
      "<PIL.PngImagePlugin.PngImageFile image mode=RGB size=640x480 at 0x110DE9B50>\n",
      "<PIL.PngImagePlugin.PngImageFile image mode=RGB size=640x480 at 0x110DE9BD0>\n",
      "<PIL.PngImagePlugin.PngImageFile image mode=RGB size=640x480 at 0x110DE9BD0>\n",
      "<PIL.PngImagePlugin.PngImageFile image mode=RGB size=640x480 at 0x110DE9C50>\n",
      "<PIL.PngImagePlugin.PngImageFile image mode=RGB size=640x480 at 0x110DE9C50>\n",
      "<PIL.PngImagePlugin.PngImageFile image mode=RGB size=640x480 at 0x110DE9CD0>\n",
      "<PIL.PngImagePlugin.PngImageFile image mode=RGB size=640x480 at 0x110DE9CD0>\n",
      "<PIL.PngImagePlugin.PngImageFile image mode=RGB size=640x480 at 0x110DE9D50>\n",
      "<PIL.PngImagePlugin.PngImageFile image mode=RGB size=640x480 at 0x110DE9D50>\n",
      "<PIL.PngImagePlugin.PngImageFile image mode=RGB size=640x480 at 0x110DE9DD0>\n",
      "<PIL.PngImagePlugin.PngImageFile image mode=RGB size=640x480 at 0x110DE9DD0>\n",
      "<PIL.PngImagePlugin.PngImageFile image mode=RGB size=640x480 at 0x110DE9E50>\n",
      "<PIL.PngImagePlugin.PngImageFile image mode=RGB size=640x480 at 0x110DE9E50>\n",
      "<PIL.PngImagePlugin.PngImageFile image mode=RGB size=640x480 at 0x110DE9ED0>\n",
      "<PIL.PngImagePlugin.PngImageFile image mode=RGB size=640x480 at 0x110DE9ED0>\n",
      "<PIL.PngImagePlugin.PngImageFile image mode=RGB size=640x480 at 0x110DE9F50>\n",
      "<PIL.PngImagePlugin.PngImageFile image mode=RGB size=640x480 at 0x110DE9F50>\n",
      "<PIL.PngImagePlugin.PngImageFile image mode=RGB size=640x480 at 0x110DE9FD0>\n",
      "<PIL.PngImagePlugin.PngImageFile image mode=RGB size=640x480 at 0x110DE9FD0>\n",
      "<PIL.PngImagePlugin.PngImageFile image mode=RGB size=640x480 at 0x110DF2090>\n",
      "<PIL.PngImagePlugin.PngImageFile image mode=RGB size=640x480 at 0x110DF2090>\n",
      "<PIL.PngImagePlugin.PngImageFile image mode=RGB size=640x480 at 0x110DF2110>\n",
      "<PIL.PngImagePlugin.PngImageFile image mode=RGB size=640x480 at 0x110DF2110>\n",
      "<PIL.PngImagePlugin.PngImageFile image mode=RGB size=640x480 at 0x110DF2190>\n",
      "<PIL.PngImagePlugin.PngImageFile image mode=RGB size=640x480 at 0x110DF2190>\n",
      "<PIL.PngImagePlugin.PngImageFile image mode=RGB size=640x480 at 0x110DF2210>\n",
      "<PIL.PngImagePlugin.PngImageFile image mode=RGB size=640x480 at 0x110DF2210>\n",
      "<PIL.PngImagePlugin.PngImageFile image mode=RGB size=640x480 at 0x110DF2290>\n",
      "<PIL.PngImagePlugin.PngImageFile image mode=RGB size=640x480 at 0x110DF2290>\n",
      "<PIL.PngImagePlugin.PngImageFile image mode=RGB size=640x480 at 0x110DF2310>\n",
      "<PIL.PngImagePlugin.PngImageFile image mode=RGB size=640x480 at 0x110DF2310>\n",
      "<PIL.PngImagePlugin.PngImageFile image mode=RGB size=640x480 at 0x110DF2390>\n",
      "<PIL.PngImagePlugin.PngImageFile image mode=RGB size=640x480 at 0x110DF2390>\n",
      "<PIL.PngImagePlugin.PngImageFile image mode=RGB size=640x480 at 0x110DF2410>\n",
      "<PIL.PngImagePlugin.PngImageFile image mode=RGB size=640x480 at 0x110DF2410>\n",
      "<PIL.PngImagePlugin.PngImageFile image mode=RGB size=640x480 at 0x110DE9490>\n"
     ]
    },
    {
     "ename": "IOError",
     "evalue": "[Errno 2] No such file or directory: '../../apartment_scripts/data/apt6_2/000_seg_inst.png'",
     "output_type": "error",
     "traceback": [
      "\u001b[0;31m---------------------------------------------------------------------------\u001b[0m",
      "\u001b[0;31mIOError\u001b[0m                                   Traceback (most recent call last)",
      "\u001b[0;32m<ipython-input-42-dcbe5feec4ae>\u001b[0m in \u001b[0;36m<module>\u001b[0;34m()\u001b[0m\n\u001b[1;32m     14\u001b[0m         \u001b[0;32mfor\u001b[0m \u001b[0mit\u001b[0m\u001b[0;34m,\u001b[0m \u001b[0mimg\u001b[0m \u001b[0;32min\u001b[0m \u001b[0menumerate\u001b[0m\u001b[0;34m(\u001b[0m\u001b[0mimgs\u001b[0m\u001b[0;34m)\u001b[0m\u001b[0;34m:\u001b[0m\u001b[0;34m\u001b[0m\u001b[0m\n\u001b[1;32m     15\u001b[0m             \u001b[0;32mprint\u001b[0m\u001b[0;34m(\u001b[0m\u001b[0mimg\u001b[0m\u001b[0;34m)\u001b[0m\u001b[0;34m\u001b[0m\u001b[0m\n\u001b[0;32m---> 16\u001b[0;31m             \u001b[0mimg\u001b[0m\u001b[0;34m.\u001b[0m\u001b[0msave\u001b[0m\u001b[0;34m(\u001b[0m\u001b[0;34m'{}/{:03}_{}.png'\u001b[0m\u001b[0;34m.\u001b[0m\u001b[0mformat\u001b[0m\u001b[0;34m(\u001b[0m\u001b[0mout_dir\u001b[0m\u001b[0;34m,\u001b[0m \u001b[0mit\u001b[0m\u001b[0;34m,\u001b[0m \u001b[0mmode\u001b[0m\u001b[0;34m)\u001b[0m\u001b[0;34m)\u001b[0m\u001b[0;34m\u001b[0m\u001b[0m\n\u001b[0m\u001b[1;32m     17\u001b[0m             \u001b[0;32mprint\u001b[0m\u001b[0;34m(\u001b[0m\u001b[0mimg\u001b[0m\u001b[0;34m)\u001b[0m\u001b[0;34m\u001b[0m\u001b[0m\n\u001b[1;32m     18\u001b[0m             \u001b[0;31m#display.display(img)\u001b[0m\u001b[0;34m\u001b[0m\u001b[0;34m\u001b[0m\u001b[0m\n",
      "\u001b[0;32m/Users/xavierpuig/anaconda2/lib/python2.7/site-packages/PIL/Image.pyc\u001b[0m in \u001b[0;36msave\u001b[0;34m(self, fp, format, **params)\u001b[0m\n\u001b[1;32m   1657\u001b[0m \u001b[0;34m\u001b[0m\u001b[0m\n\u001b[1;32m   1658\u001b[0m         \u001b[0;32mif\u001b[0m \u001b[0mfilename\u001b[0m\u001b[0;34m:\u001b[0m\u001b[0;34m\u001b[0m\u001b[0m\n\u001b[0;32m-> 1659\u001b[0;31m             \u001b[0mfp\u001b[0m \u001b[0;34m=\u001b[0m \u001b[0mbuiltins\u001b[0m\u001b[0;34m.\u001b[0m\u001b[0mopen\u001b[0m\u001b[0;34m(\u001b[0m\u001b[0mfilename\u001b[0m\u001b[0;34m,\u001b[0m \u001b[0;34m\"wb\"\u001b[0m\u001b[0;34m)\u001b[0m\u001b[0;34m\u001b[0m\u001b[0m\n\u001b[0m\u001b[1;32m   1660\u001b[0m             \u001b[0mclose\u001b[0m \u001b[0;34m=\u001b[0m \u001b[0;36m1\u001b[0m\u001b[0;34m\u001b[0m\u001b[0m\n\u001b[1;32m   1661\u001b[0m         \u001b[0;32melse\u001b[0m\u001b[0;34m:\u001b[0m\u001b[0;34m\u001b[0m\u001b[0m\n",
      "\u001b[0;31mIOError\u001b[0m: [Errno 2] No such file or directory: '../../apartment_scripts/data/apt6_2/000_seg_inst.png'"
     ]
    }
   ],
   "source": [
    "with_camera, num_cameras = comm.camera_count()\n",
    "import scipy.misc\n",
    "import os\n",
    "assert with_camera\n",
    "apt_name = 'apt6_2'\n",
    "out_dir = '../../apartment_scripts/data/{}'.format(apt_name)\n",
    "if not os.path.isdir(out_dir):\n",
    "    os.makedirs(out_dir)\n",
    "for mode in ['normal', 'seg_inst', 'seg_class', 'depth']:\n",
    "    #mode = 'normal' # Possible modes are: 'normal', 'seg_inst', 'seg_class', 'depth', 'flow'\n",
    "    (ok, imgs) = comm.camera_image([i for i in range(num_cameras)], mode=mode)\n",
    "    status, data_list = comm.camera_data([i for i in range(num_cameras)])\n",
    "    if ok:\n",
    "        for it, img in enumerate(imgs):\n",
    "            print(img)\n",
    "            img.save('{}/{:03}_{}.png'.format(out_dir, it, mode))\n",
    "            print(img)\n",
    "            #display.display(img)\n",
    "\n",
    "\n",
    "    with open('{}/cameras.json'.format(out_dir), 'w+') as f:\n",
    "        f.write(json.dumps(data_list))"
   ]
  },
  {
   "cell_type": "code",
   "execution_count": null,
   "metadata": {
    "collapsed": true
   },
   "outputs": [],
   "source": []
  },
  {
   "cell_type": "code",
   "execution_count": null,
   "metadata": {
    "collapsed": true
   },
   "outputs": [],
   "source": []
  }
 ],
 "metadata": {
  "kernelspec": {
   "display_name": "Python 2",
   "language": "python",
   "name": "python2"
  },
  "language_info": {
   "codemirror_mode": {
    "name": "ipython",
    "version": 2
   },
   "file_extension": ".py",
   "mimetype": "text/x-python",
   "name": "python",
   "nbconvert_exporter": "python",
   "pygments_lexer": "ipython2",
   "version": "2.7.12"
  }
 },
 "nbformat": 4,
 "nbformat_minor": 2
}
